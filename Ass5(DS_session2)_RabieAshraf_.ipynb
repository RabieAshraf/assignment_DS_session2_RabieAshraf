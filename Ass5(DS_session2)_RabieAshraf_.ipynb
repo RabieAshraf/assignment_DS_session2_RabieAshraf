{
  "cells": [
    {
      "cell_type": "markdown",
      "metadata": {
        "id": "v2PRvx6tDDkF"
      },
      "source": [
        "## Write a Numpy program to compute the multiplication of two given matrixes"
      ]
    },
    {
      "cell_type": "code",
      "execution_count": 2,
      "metadata": {
        "id": "XIFIBEH3DDkI"
      },
      "outputs": [],
      "source": [
        "import numpy as np"
      ]
    },
    {
      "cell_type": "code",
      "execution_count": 4,
      "metadata": {
        "colab": {
          "base_uri": "https://localhost:8080/"
        },
        "id": "d714w24RDDkJ",
        "outputId": "46b96d02-ed3b-4376-e4de-6bf1494aec31"
      },
      "outputs": [
        {
          "output_type": "execute_result",
          "data": {
            "text/plain": [
              "array([[ 1,  4,  9, 16, 25],\n",
              "       [ 1,  4,  9, 16, 25]])"
            ]
          },
          "metadata": {},
          "execution_count": 4
        }
      ],
      "source": [
        "a=np.array([[1,2,3,4,5],\n",
        "            [1,2,3,4,5]])\n",
        "b=np.array([[1,2,3,4,5],\n",
        "            [1,2,3,4,5]])\n",
        "c=a*b\n",
        "c"
      ]
    },
    {
      "cell_type": "markdown",
      "metadata": {
        "id": "qiOva9okDDkJ"
      },
      "source": [
        "## Write a NumPy program to compute the determinant of a given square array"
      ]
    },
    {
      "cell_type": "code",
      "execution_count": 11,
      "metadata": {
        "id": "9M5ZeMjnDDkJ"
      },
      "outputs": [],
      "source": [
        "a=np.array([\n",
        "            [1,2],\n",
        "            [3,4]])\n"
      ]
    },
    {
      "cell_type": "code",
      "execution_count": 12,
      "metadata": {
        "colab": {
          "base_uri": "https://localhost:8080/"
        },
        "id": "a6YTlk7JDDkJ",
        "outputId": "1490769c-84e0-4018-8c1b-5e8b86ec0a56"
      },
      "outputs": [
        {
          "output_type": "stream",
          "name": "stdout",
          "text": [
            "-2.0000000000000004\n"
          ]
        }
      ],
      "source": [
        "b=np.linalg.det(a)\n",
        "print(b)"
      ]
    },
    {
      "cell_type": "markdown",
      "metadata": {
        "id": "iJpSifTBDDkK"
      },
      "source": [
        "## Write a NumPy program to compute the cross product of two given vectors"
      ]
    },
    {
      "cell_type": "code",
      "execution_count": 13,
      "metadata": {
        "id": "xJ6IlDRlDDkK"
      },
      "outputs": [],
      "source": [
        "a=np.array([1,2,3])\n",
        "b=np.array([4,5,6])"
      ]
    },
    {
      "cell_type": "code",
      "execution_count": 14,
      "metadata": {
        "colab": {
          "base_uri": "https://localhost:8080/"
        },
        "id": "pXZO0z6fDDkL",
        "outputId": "192b919f-5b06-465e-b18a-c1cfc718304a"
      },
      "outputs": [
        {
          "output_type": "stream",
          "name": "stdout",
          "text": [
            "[-3  6 -3]\n"
          ]
        }
      ],
      "source": [
        "result=np.cross(a, b)\n",
        "print(result)"
      ]
    },
    {
      "cell_type": "markdown",
      "metadata": {
        "id": "BmwF1cpEDDkL"
      },
      "source": [
        "## Write a NumPy program to compute the condition number of a given matrix"
      ]
    },
    {
      "cell_type": "code",
      "execution_count": 22,
      "metadata": {
        "id": "op6PWzAjDDkL"
      },
      "outputs": [],
      "source": [
        "a = np.array([\n",
        "             [1, 0, -1], \n",
        "             [0, 1, 0], \n",
        "             [1, 0, 1]])"
      ]
    },
    {
      "cell_type": "code",
      "execution_count": 24,
      "metadata": {
        "colab": {
          "base_uri": "https://localhost:8080/"
        },
        "id": "utmePLe3DDkL",
        "outputId": "b23b5d00-1ad2-4f0e-e626-15f13d70a5c3"
      },
      "outputs": [
        {
          "output_type": "execute_result",
          "data": {
            "text/plain": [
              "1.4142135623730951"
            ]
          },
          "metadata": {},
          "execution_count": 24
        }
      ],
      "source": [
        "b=np.linalg.cond(a)\n",
        "b"
      ]
    },
    {
      "cell_type": "markdown",
      "metadata": {
        "id": "E9pptplnDDkM"
      },
      "source": [
        "## Write a NumPy program to compute the inverse of a given matrix"
      ]
    },
    {
      "cell_type": "code",
      "execution_count": 19,
      "metadata": {
        "id": "SESkvVHMDDkM"
      },
      "outputs": [],
      "source": [
        "a = np.array([\n",
        "             [1,2],\n",
        "             [3,4]])"
      ]
    },
    {
      "cell_type": "code",
      "execution_count": 20,
      "metadata": {
        "id": "QFC5AESdDDkM"
      },
      "outputs": [],
      "source": [
        "b=np.linalg.inv(a)"
      ]
    },
    {
      "cell_type": "code",
      "execution_count": 21,
      "metadata": {
        "colab": {
          "base_uri": "https://localhost:8080/"
        },
        "id": "-Ojzxxw0DDkM",
        "outputId": "e5a96bf5-8e03-41c2-c5f8-f875d8ec60c1"
      },
      "outputs": [
        {
          "output_type": "execute_result",
          "data": {
            "text/plain": [
              "array([[-2. ,  1. ],\n",
              "       [ 1.5, -0.5]])"
            ]
          },
          "metadata": {},
          "execution_count": 21
        }
      ],
      "source": [
        "b"
      ]
    }
  ],
  "metadata": {
    "kernelspec": {
      "display_name": "Python 3",
      "language": "python",
      "name": "python3"
    },
    "language_info": {
      "codemirror_mode": {
        "name": "ipython",
        "version": 3
      },
      "file_extension": ".py",
      "mimetype": "text/x-python",
      "name": "python",
      "nbconvert_exporter": "python",
      "pygments_lexer": "ipython3",
      "version": "3.7.3"
    },
    "colab": {
      "provenance": [],
      "collapsed_sections": []
    }
  },
  "nbformat": 4,
  "nbformat_minor": 0
}